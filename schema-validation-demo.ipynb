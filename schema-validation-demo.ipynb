{
 "cells": [
  {
   "cell_type": "code",
   "execution_count": 1,
   "metadata": {},
   "outputs": [],
   "source": [
    "import json\n",
    "import jsonschema\n",
    "import sys"
   ]
  },
  {
   "cell_type": "code",
   "execution_count": 2,
   "metadata": {},
   "outputs": [
    {
     "name": "stdout",
     "output_type": "stream",
     "text": [
      "sys.version_info(major=3, minor=7, micro=3, releaselevel='final', serial=0)\n"
     ]
    }
   ],
   "source": [
    "print(sys.version_info)"
   ]
  },
  {
   "cell_type": "code",
   "execution_count": 3,
   "metadata": {},
   "outputs": [
    {
     "name": "stdout",
     "output_type": "stream",
     "text": [
      "3.0.1\n"
     ]
    }
   ],
   "source": [
    "print(jsonschema.__version__)"
   ]
  },
  {
   "cell_type": "markdown",
   "metadata": {},
   "source": [
    "Load schema file"
   ]
  },
  {
   "cell_type": "code",
   "execution_count": 4,
   "metadata": {},
   "outputs": [],
   "source": [
    "with open('schema.json') as f:\n",
    "    schema = json.load(f)"
   ]
  },
  {
   "cell_type": "markdown",
   "metadata": {},
   "source": [
    "Try it on a dataset, e.g., https://www.kaggle.com/allen-institute-for-ai/CORD-19-research-challenge/version/5#000b7d1517ceebb34e1e3e817695b6de03e2fa78.json"
   ]
  },
  {
   "cell_type": "code",
   "execution_count": 5,
   "metadata": {},
   "outputs": [],
   "source": [
    "with open('example\\\\000b7d1517ceebb34e1e3e817695b6de03e2fa78.json') as f:\n",
    "    instance = json.load(f)"
   ]
  },
  {
   "cell_type": "markdown",
   "metadata": {},
   "source": [
    "Verify the schema against the meta-schema to ensure it is valid"
   ]
  },
  {
   "cell_type": "code",
   "execution_count": 6,
   "metadata": {},
   "outputs": [],
   "source": [
    "try:\n",
    "    jsonschema.Draft7Validator.check_schema(schema)\n",
    "except jsonschema.exceptions.SchemaError as e:\n",
    "    print(e)"
   ]
  },
  {
   "cell_type": "markdown",
   "metadata": {},
   "source": [
    "Iterate each schema validation error"
   ]
  },
  {
   "cell_type": "code",
   "execution_count": 7,
   "metadata": {},
   "outputs": [
    {
     "name": "stdout",
     "output_type": "stream",
     "text": [
      "None is not of type 'string' at ['body_text', 0, 'ref_spans', 0, 'ref_id']\n",
      "None is not of type 'string' at ['body_text', 0, 'ref_spans', 1, 'ref_id']\n",
      "None is not of type 'string' at ['body_text', 0, 'ref_spans', 2, 'ref_id']\n",
      "None is not of type 'string' at ['body_text', 0, 'ref_spans', 3, 'ref_id']\n",
      "None is not of type 'string' at ['body_text', 0, 'ref_spans', 4, 'ref_id']\n",
      "'laboratory' is a required property at ['metadata', 'authors', 4, 'affiliation']\n",
      "'institution' is a required property at ['metadata', 'authors', 4, 'affiliation']\n",
      "'location' is a required property at ['metadata', 'authors', 4, 'affiliation']\n",
      "'laboratory' is a required property at ['metadata', 'authors', 7, 'affiliation']\n",
      "'institution' is a required property at ['metadata', 'authors', 7, 'affiliation']\n",
      "'location' is a required property at ['metadata', 'authors', 7, 'affiliation']\n"
     ]
    }
   ],
   "source": [
    "try:\n",
    "    v = jsonschema.Draft7Validator(schema)\n",
    "    errors = sorted(v.iter_errors(instance), key=lambda e: e.path)\n",
    "    for error in errors:\n",
    "        print(f'{error.message} at {list(error.path)}')\n",
    "except json.decoder.JSONDecodeError as e:\n",
    "    print(\"Not a well-formed JSON document:\", e)"
   ]
  },
  {
   "cell_type": "code",
   "execution_count": null,
   "metadata": {},
   "outputs": [],
   "source": []
  }
 ],
 "metadata": {
  "kernelspec": {
   "display_name": "Python 3.7.3 32-bit",
   "language": "python",
   "name": "python37332bit8da0856117a24caa9057ebe1ca27cc5f"
  },
  "language_info": {
   "codemirror_mode": {
    "name": "ipython",
    "version": 3
   },
   "file_extension": ".py",
   "mimetype": "text/x-python",
   "name": "python",
   "nbconvert_exporter": "python",
   "pygments_lexer": "ipython3",
   "version": "3.7.3"
  }
 },
 "nbformat": 4,
 "nbformat_minor": 2
}
